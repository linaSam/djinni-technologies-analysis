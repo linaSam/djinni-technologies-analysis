{
 "cells": [
  {
   "cell_type": "code",
   "execution_count": 99,
   "metadata": {
    "collapsed": true
   },
   "outputs": [],
   "source": [
    "import pandas as pd\n",
    "import matplotlib.pyplot as plt\n",
    "import numpy as np\n",
    "import os\n",
    "import config\n",
    "from datetime import datetime"
   ]
  },
  {
   "cell_type": "code",
   "execution_count": 92,
   "outputs": [],
   "source": [
    "# Choose level of position from possible_choices\n",
    "possible_choices = {\n",
    "    1: \"junior\",\n",
    "    2: \"middle\",\n",
    "    3: \"senior\",\n",
    "    4: \"all_levels\"\n",
    "}\n",
    "EXPERIENCE_LEVEL = possible_choices[1]"
   ],
   "metadata": {
    "collapsed": false
   }
  },
  {
   "cell_type": "code",
   "execution_count": 94,
   "outputs": [],
   "source": [
    "# Create dataframe\n",
    "col_names=[\"Technologies\", \"Number_of_occurrences\"]\n",
    "technologies = pd.read_csv(f\"{EXPERIENCE_LEVEL}_technologies.csv\", names=col_names, header=None)\n",
    "technologies.set_index('Technologies', inplace=True)"
   ],
   "metadata": {
    "collapsed": false
   }
  },
  {
   "cell_type": "code",
   "execution_count": null,
   "outputs": [],
   "source": [
    "# Create new row \"JavaScript\" as sum of \"JS\" and \"JavaScript\", which were used for key-word searching\n",
    "sum_of_js = technologies.loc['JS'] + technologies.loc['JavaScript']\n",
    "technologies = technologies.drop(labels=[\"JS\", \"JavaScript\"], axis=0)\n",
    "sum_of_js.name = 'JavaScript'\n",
    "technologies = technologies.append([sum_of_js])"
   ],
   "metadata": {
    "collapsed": false,
    "pycharm": {
     "is_executing": true
    }
   }
  },
  {
   "cell_type": "code",
   "execution_count": 96,
   "outputs": [],
   "source": [
    "# Sort dataframe by number of occurrences ot technologies\n",
    "technologies = technologies.sort_values(\"Number_of_occurrences\", ascending=False)"
   ],
   "metadata": {
    "collapsed": false
   }
  },
  {
   "cell_type": "code",
   "execution_count": null,
   "outputs": [],
   "source": [
    "# Choose size of plot\n",
    "fig = plt.figure(figsize = (20, 5))\n",
    "\n",
    "# Choose the names of the bars\n",
    "bars = technologies.index\n",
    "x_pos = np.arange(len(bars))\n",
    "\n",
    "# Create bars\n",
    "plt.bar(x_pos, technologies.Number_of_occurrences)\n",
    "\n",
    "# Create names on the x-axis\n",
    "plt.xticks(x_pos, bars, color='orange', rotation='vertical')\n",
    "plt.yticks(color='orange')\n",
    "\n",
    "# Create names of labels and title\n",
    "plt.xlabel(\"Technologies\", labelpad=10)\n",
    "plt.ylabel(\"Number of occurrences\", labelpad=10)\n",
    "plt.title(f\"The most demanded technologies for {EXPERIENCE_LEVEL} position in Python vacancies\")\n",
    "\n",
    "# Save result\n",
    "#my_path = os.path.abspath(__file__) # Figures out the absolute path for you in case your working directory moves around.\n",
    "folder_path = os.path.abspath(\"plot_results\")\n",
    "plot_name = f'{EXPERIENCE_LEVEL} technologies for {datetime.now().strftime(\"%Y-%m-%d %H_%M_%S\")}.png'\n",
    "plt.savefig(os.path.join(folder_path, plot_name))\n",
    "#plt.savefig(f'plot_results/{EXPERIENCE_LEVEL} technologies for {datetime.now().strftime(\"%Y-%m-%d %H_%M_%S\")}.png', bbox_inches=\"tight\")\n",
    "\n",
    "# Show result\n",
    "plt.show()"
   ],
   "metadata": {
    "collapsed": false,
    "pycharm": {
     "is_executing": true
    }
   }
  },
  {
   "cell_type": "code",
   "execution_count": null,
   "outputs": [],
   "source": [],
   "metadata": {
    "collapsed": false
   }
  }
 ],
 "metadata": {
  "kernelspec": {
   "display_name": "Python 3",
   "language": "python",
   "name": "python3"
  },
  "language_info": {
   "codemirror_mode": {
    "name": "ipython",
    "version": 2
   },
   "file_extension": ".py",
   "mimetype": "text/x-python",
   "name": "python",
   "nbconvert_exporter": "python",
   "pygments_lexer": "ipython2",
   "version": "2.7.6"
  }
 },
 "nbformat": 4,
 "nbformat_minor": 0
}
